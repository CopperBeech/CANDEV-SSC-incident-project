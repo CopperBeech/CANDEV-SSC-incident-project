{
 "cells": [
  {
   "cell_type": "markdown",
   "id": "02729145",
   "metadata": {},
   "source": [
    "### Question 3: Average time that incidents spend with a particular Support group (Assigned_Group)."
   ]
  },
  {
   "cell_type": "code",
   "execution_count": 58,
   "id": "f91b2362",
   "metadata": {},
   "outputs": [],
   "source": [
    "import pandas as pd\n",
    "import seaborn as sns"
   ]
  },
  {
   "cell_type": "code",
   "execution_count": 11,
   "id": "88be3893",
   "metadata": {},
   "outputs": [],
   "source": [
    "IOH_original = pd.read_csv('C:/Users/arsha/OneDrive/Documents/CanDev/INCIDENT_OWNER_HISTORY.csv')"
   ]
  },
  {
   "cell_type": "code",
   "execution_count": 47,
   "id": "001bb0bc",
   "metadata": {
    "scrolled": true
   },
   "outputs": [
    {
     "data": {
      "text/html": [
       "<div>\n",
       "<style scoped>\n",
       "    .dataframe tbody tr th:only-of-type {\n",
       "        vertical-align: middle;\n",
       "    }\n",
       "\n",
       "    .dataframe tbody tr th {\n",
       "        vertical-align: top;\n",
       "    }\n",
       "\n",
       "    .dataframe thead th {\n",
       "        text-align: right;\n",
       "    }\n",
       "</style>\n",
       "<table border=\"1\" class=\"dataframe\">\n",
       "  <thead>\n",
       "    <tr style=\"text-align: right;\">\n",
       "      <th></th>\n",
       "      <th>ticket_nmbr</th>\n",
       "      <th>STATUS</th>\n",
       "      <th>assigned_group</th>\n",
       "      <th>PARENT_SERVICE</th>\n",
       "      <th>service</th>\n",
       "      <th>CHANGE_DATE</th>\n",
       "      <th>TIME_IN_STATUS_BY_OWNER_HRS</th>\n",
       "    </tr>\n",
       "  </thead>\n",
       "  <tbody>\n",
       "    <tr>\n",
       "      <th>0</th>\n",
       "      <td>IN10028612</td>\n",
       "      <td>QUEUED</td>\n",
       "      <td>DC000152</td>\n",
       "      <td>Middleware</td>\n",
       "      <td>Middleware</td>\n",
       "      <td>01APR2016:00:03:12</td>\n",
       "      <td>8.383333</td>\n",
       "    </tr>\n",
       "    <tr>\n",
       "      <th>1</th>\n",
       "      <td>IN10028612</td>\n",
       "      <td>RESOLVED</td>\n",
       "      <td>DC000152</td>\n",
       "      <td>Middleware</td>\n",
       "      <td>Middleware</td>\n",
       "      <td>01APR2016:08:26:30</td>\n",
       "      <td>0.000000</td>\n",
       "    </tr>\n",
       "    <tr>\n",
       "      <th>2</th>\n",
       "      <td>IN10028612</td>\n",
       "      <td>CLOSED</td>\n",
       "      <td>DC000152</td>\n",
       "      <td>Middleware</td>\n",
       "      <td>Middleware</td>\n",
       "      <td>12APR2016:05:30:11</td>\n",
       "      <td>NaN</td>\n",
       "    </tr>\n",
       "    <tr>\n",
       "      <th>3</th>\n",
       "      <td>IN10028613</td>\n",
       "      <td>QUEUED</td>\n",
       "      <td>NDS00032</td>\n",
       "      <td>Midrange</td>\n",
       "      <td>Midrange - Windows -X86</td>\n",
       "      <td>01APR2016:01:04:45</td>\n",
       "      <td>64.100000</td>\n",
       "    </tr>\n",
       "    <tr>\n",
       "      <th>4</th>\n",
       "      <td>IN10028613</td>\n",
       "      <td>RESOLVED</td>\n",
       "      <td>NDS00032</td>\n",
       "      <td>Midrange</td>\n",
       "      <td>Midrange - Windows -X86</td>\n",
       "      <td>11APR2016:11:06:12</td>\n",
       "      <td>0.000000</td>\n",
       "    </tr>\n",
       "  </tbody>\n",
       "</table>\n",
       "</div>"
      ],
      "text/plain": [
       "  ticket_nmbr    STATUS assigned_group PARENT_SERVICE  \\\n",
       "0  IN10028612    QUEUED       DC000152     Middleware   \n",
       "1  IN10028612  RESOLVED       DC000152     Middleware   \n",
       "2  IN10028612    CLOSED       DC000152     Middleware   \n",
       "3  IN10028613    QUEUED       NDS00032       Midrange   \n",
       "4  IN10028613  RESOLVED       NDS00032       Midrange   \n",
       "\n",
       "                   service         CHANGE_DATE  TIME_IN_STATUS_BY_OWNER_HRS  \n",
       "0               Middleware  01APR2016:00:03:12                     8.383333  \n",
       "1               Middleware  01APR2016:08:26:30                     0.000000  \n",
       "2               Middleware  12APR2016:05:30:11                          NaN  \n",
       "3  Midrange - Windows -X86  01APR2016:01:04:45                    64.100000  \n",
       "4  Midrange - Windows -X86  11APR2016:11:06:12                     0.000000  "
      ]
     },
     "execution_count": 47,
     "metadata": {},
     "output_type": "execute_result"
    }
   ],
   "source": [
    "IOH_original.head() #IOH - Incident_Owner_History"
   ]
  },
  {
   "cell_type": "code",
   "execution_count": 48,
   "id": "ed023da5",
   "metadata": {},
   "outputs": [
    {
     "name": "stdout",
     "output_type": "stream",
     "text": [
      "ticket_nmbr                    226296\n",
      "STATUS                             15\n",
      "assigned_group                    587\n",
      "PARENT_SERVICE                     31\n",
      "service                            65\n",
      "CHANGE_DATE                    877044\n",
      "TIME_IN_STATUS_BY_OWNER_HRS     33800\n",
      "dtype: int64\n"
     ]
    }
   ],
   "source": [
    "print(IOH_original.nunique()) #Unique column count"
   ]
  },
  {
   "cell_type": "code",
   "execution_count": 63,
   "id": "60052235",
   "metadata": {
    "scrolled": true
   },
   "outputs": [
    {
     "data": {
      "text/plain": [
       "<AxesSubplot:xlabel='assigned_group', ylabel='TIME_IN_STATUS_BY_OWNER_HRS'>"
      ]
     },
     "execution_count": 63,
     "metadata": {},
     "output_type": "execute_result"
    },
    {
     "data": {
      "image/png": "[encoded data removed]",
      "text/plain": [
       "<Figure size 432x288 with 1 Axes>"
      ]
     },
     "metadata": {
      "needs_background": "light"
     },
     "output_type": "display_data"
    }
   ],
   "source": [
    "sns.scatterplot(x='assigned_group',y='TIME_IN_STATUS_BY_OWNER_HRS',data=IOH_original)"
   ]
  },
  {
   "cell_type": "code",
   "execution_count": 49,
   "id": "243ca6be",
   "metadata": {},
   "outputs": [
    {
     "data": {
      "text/html": [
       "<div>\n",
       "<style scoped>\n",
       "    .dataframe tbody tr th:only-of-type {\n",
       "        vertical-align: middle;\n",
       "    }\n",
       "\n",
       "    .dataframe tbody tr th {\n",
       "        vertical-align: top;\n",
       "    }\n",
       "\n",
       "    .dataframe thead th {\n",
       "        text-align: right;\n",
       "    }\n",
       "</style>\n",
       "<table border=\"1\" class=\"dataframe\">\n",
       "  <thead>\n",
       "    <tr style=\"text-align: right;\">\n",
       "      <th></th>\n",
       "      <th>TIME_IN_STATUS_BY_OWNER_HRS</th>\n",
       "    </tr>\n",
       "  </thead>\n",
       "  <tbody>\n",
       "    <tr>\n",
       "      <th>count</th>\n",
       "      <td>738632.000000</td>\n",
       "    </tr>\n",
       "    <tr>\n",
       "      <th>mean</th>\n",
       "      <td>37.450828</td>\n",
       "    </tr>\n",
       "    <tr>\n",
       "      <th>std</th>\n",
       "      <td>181.713569</td>\n",
       "    </tr>\n",
       "    <tr>\n",
       "      <th>min</th>\n",
       "      <td>0.000000</td>\n",
       "    </tr>\n",
       "    <tr>\n",
       "      <th>25%</th>\n",
       "      <td>0.000000</td>\n",
       "    </tr>\n",
       "    <tr>\n",
       "      <th>50%</th>\n",
       "      <td>0.233333</td>\n",
       "    </tr>\n",
       "    <tr>\n",
       "      <th>75%</th>\n",
       "      <td>7.266667</td>\n",
       "    </tr>\n",
       "    <tr>\n",
       "      <th>max</th>\n",
       "      <td>7307.200000</td>\n",
       "    </tr>\n",
       "  </tbody>\n",
       "</table>\n",
       "</div>"
      ],
      "text/plain": [
       "       TIME_IN_STATUS_BY_OWNER_HRS\n",
       "count                738632.000000\n",
       "mean                     37.450828\n",
       "std                     181.713569\n",
       "min                       0.000000\n",
       "25%                       0.000000\n",
       "50%                       0.233333\n",
       "75%                       7.266667\n",
       "max                    7307.200000"
      ]
     },
     "execution_count": 49,
     "metadata": {},
     "output_type": "execute_result"
    }
   ],
   "source": [
    "IOH_original.describe()"
   ]
  },
  {
   "cell_type": "code",
   "execution_count": 104,
   "id": "dd2dd998",
   "metadata": {},
   "outputs": [],
   "source": [
    "dataGroupedByGroup = IOH_original.groupby(['assigned_group','PARENT_SERVICE']).sum()"
   ]
  },
  {
   "cell_type": "code",
   "execution_count": 105,
   "id": "0a563477",
   "metadata": {},
   "outputs": [],
   "source": [
    "dataGroupedByGroup=dataGroupedByGroup.sort_values(by='TIME_IN_STATUS_BY_OWNER_HRS',ascending=False ).reset_index()"
   ]
  },
  {
   "cell_type": "code",
   "execution_count": 106,
   "id": "e7513cfb",
   "metadata": {},
   "outputs": [
    {
     "data": {
      "text/html": [
       "<div>\n",
       "<style scoped>\n",
       "    .dataframe tbody tr th:only-of-type {\n",
       "        vertical-align: middle;\n",
       "    }\n",
       "\n",
       "    .dataframe tbody tr th {\n",
       "        vertical-align: top;\n",
       "    }\n",
       "\n",
       "    .dataframe thead th {\n",
       "        text-align: right;\n",
       "    }\n",
       "</style>\n",
       "<table border=\"1\" class=\"dataframe\">\n",
       "  <thead>\n",
       "    <tr style=\"text-align: right;\">\n",
       "      <th></th>\n",
       "      <th>assigned_group</th>\n",
       "      <th>PARENT_SERVICE</th>\n",
       "      <th>TIME_IN_STATUS_BY_OWNER_HRS</th>\n",
       "    </tr>\n",
       "  </thead>\n",
       "  <tbody>\n",
       "    <tr>\n",
       "      <th>0</th>\n",
       "      <td>ESI00011</td>\n",
       "      <td>Other Activities</td>\n",
       "      <td>2.416553e+06</td>\n",
       "    </tr>\n",
       "    <tr>\n",
       "      <th>1</th>\n",
       "      <td>DC000132</td>\n",
       "      <td>High-performance Computing</td>\n",
       "      <td>1.379444e+06</td>\n",
       "    </tr>\n",
       "    <tr>\n",
       "      <th>2</th>\n",
       "      <td>NW000417</td>\n",
       "      <td>GC WAN</td>\n",
       "      <td>1.010383e+06</td>\n",
       "    </tr>\n",
       "    <tr>\n",
       "      <th>3</th>\n",
       "      <td>NW000412</td>\n",
       "      <td>Fixed Line</td>\n",
       "      <td>1.000566e+06</td>\n",
       "    </tr>\n",
       "    <tr>\n",
       "      <th>4</th>\n",
       "      <td>NW000403</td>\n",
       "      <td>Intra-building Network Services</td>\n",
       "      <td>8.260850e+05</td>\n",
       "    </tr>\n",
       "    <tr>\n",
       "      <th>...</th>\n",
       "      <td>...</td>\n",
       "      <td>...</td>\n",
       "      <td>...</td>\n",
       "    </tr>\n",
       "    <tr>\n",
       "      <th>569</th>\n",
       "      <td>DC000208</td>\n",
       "      <td>Midrange</td>\n",
       "      <td>0.000000e+00</td>\n",
       "    </tr>\n",
       "    <tr>\n",
       "      <th>570</th>\n",
       "      <td>NW000511</td>\n",
       "      <td>Fixed Line</td>\n",
       "      <td>0.000000e+00</td>\n",
       "    </tr>\n",
       "    <tr>\n",
       "      <th>571</th>\n",
       "      <td>SM000506</td>\n",
       "      <td>Other Activities</td>\n",
       "      <td>0.000000e+00</td>\n",
       "    </tr>\n",
       "    <tr>\n",
       "      <th>572</th>\n",
       "      <td>NW000515</td>\n",
       "      <td>Intra-building Network Services</td>\n",
       "      <td>0.000000e+00</td>\n",
       "    </tr>\n",
       "    <tr>\n",
       "      <th>573</th>\n",
       "      <td>DC000265</td>\n",
       "      <td>Cloud Brokering</td>\n",
       "      <td>0.000000e+00</td>\n",
       "    </tr>\n",
       "  </tbody>\n",
       "</table>\n",
       "<p>574 rows × 3 columns</p>\n",
       "</div>"
      ],
      "text/plain": [
       "    assigned_group                   PARENT_SERVICE  \\\n",
       "0         ESI00011                 Other Activities   \n",
       "1         DC000132       High-performance Computing   \n",
       "2         NW000417                           GC WAN   \n",
       "3         NW000412                       Fixed Line   \n",
       "4         NW000403  Intra-building Network Services   \n",
       "..             ...                              ...   \n",
       "569       DC000208                         Midrange   \n",
       "570       NW000511                       Fixed Line   \n",
       "571       SM000506                 Other Activities   \n",
       "572       NW000515  Intra-building Network Services   \n",
       "573       DC000265                  Cloud Brokering   \n",
       "\n",
       "     TIME_IN_STATUS_BY_OWNER_HRS  \n",
       "0                   2.416553e+06  \n",
       "1                   1.379444e+06  \n",
       "2                   1.010383e+06  \n",
       "3                   1.000566e+06  \n",
       "4                   8.260850e+05  \n",
       "..                           ...  \n",
       "569                 0.000000e+00  \n",
       "570                 0.000000e+00  \n",
       "571                 0.000000e+00  \n",
       "572                 0.000000e+00  \n",
       "573                 0.000000e+00  \n",
       "\n",
       "[574 rows x 3 columns]"
      ]
     },
     "execution_count": 106,
     "metadata": {},
     "output_type": "execute_result"
    }
   ],
   "source": [
    "dataGroupedByGroup"
   ]
  },
  {
   "cell_type": "code",
   "execution_count": 107,
   "id": "b940d84e",
   "metadata": {
    "scrolled": true
   },
   "outputs": [
    {
     "data": {
      "text/html": [
       "<div>\n",
       "<style scoped>\n",
       "    .dataframe tbody tr th:only-of-type {\n",
       "        vertical-align: middle;\n",
       "    }\n",
       "\n",
       "    .dataframe tbody tr th {\n",
       "        vertical-align: top;\n",
       "    }\n",
       "\n",
       "    .dataframe thead th {\n",
       "        text-align: right;\n",
       "    }\n",
       "</style>\n",
       "<table border=\"1\" class=\"dataframe\">\n",
       "  <thead>\n",
       "    <tr style=\"text-align: right;\">\n",
       "      <th></th>\n",
       "      <th>TIME_IN_STATUS_BY_OWNER_HRS</th>\n",
       "    </tr>\n",
       "  </thead>\n",
       "  <tbody>\n",
       "    <tr>\n",
       "      <th>count</th>\n",
       "      <td>5.740000e+02</td>\n",
       "    </tr>\n",
       "    <tr>\n",
       "      <th>mean</th>\n",
       "      <td>4.816672e+04</td>\n",
       "    </tr>\n",
       "    <tr>\n",
       "      <th>std</th>\n",
       "      <td>1.578484e+05</td>\n",
       "    </tr>\n",
       "    <tr>\n",
       "      <th>min</th>\n",
       "      <td>0.000000e+00</td>\n",
       "    </tr>\n",
       "    <tr>\n",
       "      <th>25%</th>\n",
       "      <td>5.344625e+02</td>\n",
       "    </tr>\n",
       "    <tr>\n",
       "      <th>50%</th>\n",
       "      <td>4.865775e+03</td>\n",
       "    </tr>\n",
       "    <tr>\n",
       "      <th>75%</th>\n",
       "      <td>3.440779e+04</td>\n",
       "    </tr>\n",
       "    <tr>\n",
       "      <th>max</th>\n",
       "      <td>2.416553e+06</td>\n",
       "    </tr>\n",
       "  </tbody>\n",
       "</table>\n",
       "</div>"
      ],
      "text/plain": [
       "       TIME_IN_STATUS_BY_OWNER_HRS\n",
       "count                 5.740000e+02\n",
       "mean                  4.816672e+04\n",
       "std                   1.578484e+05\n",
       "min                   0.000000e+00\n",
       "25%                   5.344625e+02\n",
       "50%                   4.865775e+03\n",
       "75%                   3.440779e+04\n",
       "max                   2.416553e+06"
      ]
     },
     "execution_count": 107,
     "metadata": {},
     "output_type": "execute_result"
    }
   ],
   "source": [
    "dataGroupedByGroup.describe()"
   ]
  }
 ],
 "metadata": {
  "kernelspec": {
   "display_name": "Python 3 (ipykernel)",
   "language": "python",
   "name": "python3"
  },
  "language_info": {
   "codemirror_mode": {
    "name": "ipython",
    "version": 3
   },
   "file_extension": ".py",
   "mimetype": "text/x-python",
   "name": "python",
   "nbconvert_exporter": "python",
   "pygments_lexer": "ipython3",
   "version": "3.9.7"
  }
 },
 "nbformat": 4,
 "nbformat_minor": 5
}
